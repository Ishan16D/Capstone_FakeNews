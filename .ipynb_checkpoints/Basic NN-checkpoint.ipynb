{
 "cells": [
  {
   "cell_type": "code",
   "execution_count": 16,
   "metadata": {},
   "outputs": [],
   "source": [
    "import pandas as pd\n",
    "import numpy as np\n",
    "from nltk.tokenize import RegexpTokenizer\n",
    "from nltk import WordNetLemmatizer\n",
    "from sklearn.feature_extraction.text import CountVectorizer, TfidfVectorizer\n",
    "pd.options.display.max_rows = 999\n",
    "\n",
    "from sklearn.model_selection import train_test_split\n",
    "\n",
    "from keras.models import Sequential\n",
    "from keras.layers import Dense, Dropout\n",
    "from keras.callbacks import EarlyStopping\n",
    "from keras.utils import to_categorical"
   ]
  },
  {
   "cell_type": "markdown",
   "metadata": {},
   "source": [
    "## Reading in data"
   ]
  },
  {
   "cell_type": "code",
   "execution_count": 2,
   "metadata": {},
   "outputs": [
    {
     "name": "stderr",
     "output_type": "stream",
     "text": [
      "C:\\Users\\Ishan\\Anaconda3\\lib\\site-packages\\IPython\\core\\interactiveshell.py:3057: DtypeWarning: Columns (0,1,16) have mixed types. Specify dtype option on import or set low_memory=False.\n",
      "  interactivity=interactivity, compiler=compiler, result=result)\n"
     ]
    },
    {
     "data": {
      "text/plain": [
       "(90698, 17)"
      ]
     },
     "execution_count": 2,
     "metadata": {},
     "output_type": "execute_result"
    }
   ],
   "source": [
    "filepath = '../datasets/news_cleaned_2018_02_13.csv'\n",
    "nlinesfile = 9408908\n",
    "nlinesrandomsample = 100_000\n",
    "lines2skip = np.random.choice(np.arange(1,nlinesfile+1), (nlinesfile-nlinesrandomsample), replace=False)\n",
    "df = pd.read_csv(filepath, skiprows=lines2skip)\n",
    "\n",
    "\n",
    "df.shape"
   ]
  },
  {
   "cell_type": "code",
   "execution_count": 4,
   "metadata": {
    "scrolled": true
   },
   "outputs": [
    {
     "data": {
      "text/html": [
       "<div>\n",
       "<style scoped>\n",
       "    .dataframe tbody tr th:only-of-type {\n",
       "        vertical-align: middle;\n",
       "    }\n",
       "\n",
       "    .dataframe tbody tr th {\n",
       "        vertical-align: top;\n",
       "    }\n",
       "\n",
       "    .dataframe thead th {\n",
       "        text-align: right;\n",
       "    }\n",
       "</style>\n",
       "<table border=\"1\" class=\"dataframe\">\n",
       "  <thead>\n",
       "    <tr style=\"text-align: right;\">\n",
       "      <th></th>\n",
       "      <th>Unnamed: 0</th>\n",
       "      <th>id</th>\n",
       "      <th>domain</th>\n",
       "      <th>type</th>\n",
       "      <th>url</th>\n",
       "      <th>content</th>\n",
       "      <th>scraped_at</th>\n",
       "      <th>inserted_at</th>\n",
       "      <th>updated_at</th>\n",
       "      <th>title</th>\n",
       "      <th>authors</th>\n",
       "      <th>keywords</th>\n",
       "      <th>meta_keywords</th>\n",
       "      <th>meta_description</th>\n",
       "      <th>tags</th>\n",
       "      <th>summary</th>\n",
       "      <th>source</th>\n",
       "    </tr>\n",
       "  </thead>\n",
       "  <tbody>\n",
       "    <tr>\n",
       "      <td>48048</td>\n",
       "      <td>1506</td>\n",
       "      <td>5213061</td>\n",
       "      <td>dailykos.com</td>\n",
       "      <td>political</td>\n",
       "      <td>https://www.dailykos.com/stories/2008/10/8/624...</td>\n",
       "      <td>My response to the Republican email blaming th...</td>\n",
       "      <td>2017-11-27T01:14:21.395055</td>\n",
       "      <td>2018-02-07 23:39:33.852671</td>\n",
       "      <td>2018-02-07 23:39:33.852696</td>\n",
       "      <td>Refuting GOP attempts to blame Dems for meltdown</td>\n",
       "      <td>Backgroundurl Avatar_Large, Nickname, Joined, ...</td>\n",
       "      <td>NaN</td>\n",
       "      <td>['']</td>\n",
       "      <td>NaN</td>\n",
       "      <td>NaN</td>\n",
       "      <td>NaN</td>\n",
       "      <td>NaN</td>\n",
       "    </tr>\n",
       "    <tr>\n",
       "      <td>2690</td>\n",
       "      <td>8742</td>\n",
       "      <td>302589</td>\n",
       "      <td>lifenews.com</td>\n",
       "      <td>bias</td>\n",
       "      <td>https://consciouslifenews.com/tag/antibiotic-r...</td>\n",
       "      <td>FAIR USE NOTICE. Many of the stories on this s...</td>\n",
       "      <td>2018-01-25 20:13:50.426130</td>\n",
       "      <td>2018-02-02 01:19:41.756632</td>\n",
       "      <td>2018-02-02 01:19:41.756664</td>\n",
       "      <td>antibiotic-resistent bacteria Archives</td>\n",
       "      <td>NaN</td>\n",
       "      <td>NaN</td>\n",
       "      <td>['']</td>\n",
       "      <td>NaN</td>\n",
       "      <td>NaN</td>\n",
       "      <td>NaN</td>\n",
       "      <td>NaN</td>\n",
       "    </tr>\n",
       "    <tr>\n",
       "      <td>6802</td>\n",
       "      <td>9766</td>\n",
       "      <td>765779</td>\n",
       "      <td>dailykos.com</td>\n",
       "      <td>political</td>\n",
       "      <td>https://www.dailykos.com/user/willy%20be%20fra...</td>\n",
       "      <td>Canada 2015- from Conservative hell, to \"Sunny...</td>\n",
       "      <td>2018-01-25 20:13:50.426130</td>\n",
       "      <td>2018-02-02 01:19:41.756632</td>\n",
       "      <td>2018-02-02 01:19:41.756664</td>\n",
       "      <td>willy be frantic's Followed People</td>\n",
       "      <td>Happy Cog Studios - Http, Www.Happycog.Com, Da...</td>\n",
       "      <td>NaN</td>\n",
       "      <td>['']</td>\n",
       "      <td>NaN</td>\n",
       "      <td>NaN</td>\n",
       "      <td>NaN</td>\n",
       "      <td>NaN</td>\n",
       "    </tr>\n",
       "    <tr>\n",
       "      <td>7300</td>\n",
       "      <td>7629</td>\n",
       "      <td>822290</td>\n",
       "      <td>beforeitsnews.com</td>\n",
       "      <td>fake</td>\n",
       "      <td>http://beforeitsnews.com/environment/2012/01/n...</td>\n",
       "      <td>New Overnight Diapers Promise Peaceful Nights,...</td>\n",
       "      <td>2018-01-25 20:13:50.426130</td>\n",
       "      <td>2018-02-02 01:19:41.756632</td>\n",
       "      <td>2018-02-02 01:19:41.756664</td>\n",
       "      <td>New Overnight Diapers Promise Peaceful Nights,...</td>\n",
       "      <td>Seventh Generation</td>\n",
       "      <td>NaN</td>\n",
       "      <td>['']</td>\n",
       "      <td>NaN</td>\n",
       "      <td>NaN</td>\n",
       "      <td>NaN</td>\n",
       "      <td>NaN</td>\n",
       "    </tr>\n",
       "    <tr>\n",
       "      <td>2534</td>\n",
       "      <td>2593</td>\n",
       "      <td>285557</td>\n",
       "      <td>dcclothesline.com</td>\n",
       "      <td>conspiracy</td>\n",
       "      <td>http://www.dcclothesline.com/2015/02/03/muslim...</td>\n",
       "      <td>With Barack Obama in office, you knew this was...</td>\n",
       "      <td>2018-01-25 20:13:50.426130</td>\n",
       "      <td>2018-02-02 01:19:41.756632</td>\n",
       "      <td>2018-02-02 01:19:41.756664</td>\n",
       "      <td>Muslim Brotherhood Political Party formed in U...</td>\n",
       "      <td>Posted On</td>\n",
       "      <td>NaN</td>\n",
       "      <td>['']</td>\n",
       "      <td>NaN</td>\n",
       "      <td>NaN</td>\n",
       "      <td>NaN</td>\n",
       "      <td>NaN</td>\n",
       "    </tr>\n",
       "  </tbody>\n",
       "</table>\n",
       "</div>"
      ],
      "text/plain": [
       "      Unnamed: 0       id             domain        type  \\\n",
       "48048       1506  5213061       dailykos.com   political   \n",
       "2690        8742   302589       lifenews.com        bias   \n",
       "6802        9766   765779       dailykos.com   political   \n",
       "7300        7629   822290  beforeitsnews.com        fake   \n",
       "2534        2593   285557  dcclothesline.com  conspiracy   \n",
       "\n",
       "                                                     url  \\\n",
       "48048  https://www.dailykos.com/stories/2008/10/8/624...   \n",
       "2690   https://consciouslifenews.com/tag/antibiotic-r...   \n",
       "6802   https://www.dailykos.com/user/willy%20be%20fra...   \n",
       "7300   http://beforeitsnews.com/environment/2012/01/n...   \n",
       "2534   http://www.dcclothesline.com/2015/02/03/muslim...   \n",
       "\n",
       "                                                 content  \\\n",
       "48048  My response to the Republican email blaming th...   \n",
       "2690   FAIR USE NOTICE. Many of the stories on this s...   \n",
       "6802   Canada 2015- from Conservative hell, to \"Sunny...   \n",
       "7300   New Overnight Diapers Promise Peaceful Nights,...   \n",
       "2534   With Barack Obama in office, you knew this was...   \n",
       "\n",
       "                       scraped_at                 inserted_at  \\\n",
       "48048  2017-11-27T01:14:21.395055  2018-02-07 23:39:33.852671   \n",
       "2690   2018-01-25 20:13:50.426130  2018-02-02 01:19:41.756632   \n",
       "6802   2018-01-25 20:13:50.426130  2018-02-02 01:19:41.756632   \n",
       "7300   2018-01-25 20:13:50.426130  2018-02-02 01:19:41.756632   \n",
       "2534   2018-01-25 20:13:50.426130  2018-02-02 01:19:41.756632   \n",
       "\n",
       "                       updated_at  \\\n",
       "48048  2018-02-07 23:39:33.852696   \n",
       "2690   2018-02-02 01:19:41.756664   \n",
       "6802   2018-02-02 01:19:41.756664   \n",
       "7300   2018-02-02 01:19:41.756664   \n",
       "2534   2018-02-02 01:19:41.756664   \n",
       "\n",
       "                                                   title  \\\n",
       "48048   Refuting GOP attempts to blame Dems for meltdown   \n",
       "2690              antibiotic-resistent bacteria Archives   \n",
       "6802                  willy be frantic's Followed People   \n",
       "7300   New Overnight Diapers Promise Peaceful Nights,...   \n",
       "2534   Muslim Brotherhood Political Party formed in U...   \n",
       "\n",
       "                                                 authors  keywords  \\\n",
       "48048  Backgroundurl Avatar_Large, Nickname, Joined, ...       NaN   \n",
       "2690                                                 NaN       NaN   \n",
       "6802   Happy Cog Studios - Http, Www.Happycog.Com, Da...       NaN   \n",
       "7300                                  Seventh Generation       NaN   \n",
       "2534                                           Posted On       NaN   \n",
       "\n",
       "      meta_keywords meta_description tags  summary source  \n",
       "48048          ['']              NaN  NaN      NaN    NaN  \n",
       "2690           ['']              NaN  NaN      NaN    NaN  \n",
       "6802           ['']              NaN  NaN      NaN    NaN  \n",
       "7300           ['']              NaN  NaN      NaN    NaN  \n",
       "2534           ['']              NaN  NaN      NaN    NaN  "
      ]
     },
     "execution_count": 4,
     "metadata": {},
     "output_type": "execute_result"
    }
   ],
   "source": [
    "df.sample(5)"
   ]
  },
  {
   "cell_type": "code",
   "execution_count": 5,
   "metadata": {
    "scrolled": true
   },
   "outputs": [
    {
     "data": {
      "text/plain": [
       "Unnamed: 0          0.000000\n",
       "id                  0.000000\n",
       "domain              0.000000\n",
       "type                0.046594\n",
       "url                 0.000000\n",
       "content             0.000011\n",
       "scraped_at          0.000011\n",
       "inserted_at         0.000000\n",
       "updated_at          0.000000\n",
       "title               0.008501\n",
       "authors             0.446625\n",
       "keywords            1.000000\n",
       "meta_keywords       0.040045\n",
       "meta_description    0.527983\n",
       "tags                0.767360\n",
       "summary             1.000000\n",
       "source              0.781340\n",
       "dtype: float64"
      ]
     },
     "execution_count": 5,
     "metadata": {},
     "output_type": "execute_result"
    }
   ],
   "source": [
    "df.isna().mean()"
   ]
  },
  {
   "cell_type": "code",
   "execution_count": 6,
   "metadata": {},
   "outputs": [],
   "source": [
    "df = df.drop(columns = ['authors', 'keywords', 'meta_description', 'tags', 'summary', 'source', 'id', 'Unnamed: 0', 'url', 'scraped_at', 'inserted_at', 'updated_at'])"
   ]
  },
  {
   "cell_type": "code",
   "execution_count": 7,
   "metadata": {
    "scrolled": true
   },
   "outputs": [
    {
     "data": {
      "text/html": [
       "<div>\n",
       "<style scoped>\n",
       "    .dataframe tbody tr th:only-of-type {\n",
       "        vertical-align: middle;\n",
       "    }\n",
       "\n",
       "    .dataframe tbody tr th {\n",
       "        vertical-align: top;\n",
       "    }\n",
       "\n",
       "    .dataframe thead th {\n",
       "        text-align: right;\n",
       "    }\n",
       "</style>\n",
       "<table border=\"1\" class=\"dataframe\">\n",
       "  <thead>\n",
       "    <tr style=\"text-align: right;\">\n",
       "      <th></th>\n",
       "      <th>domain</th>\n",
       "      <th>type</th>\n",
       "      <th>content</th>\n",
       "      <th>title</th>\n",
       "      <th>meta_keywords</th>\n",
       "    </tr>\n",
       "  </thead>\n",
       "  <tbody>\n",
       "    <tr>\n",
       "      <td>10737</td>\n",
       "      <td>express.co.uk</td>\n",
       "      <td>rumor</td>\n",
       "      <td>SUPPLIED CCTV The money was stolen before it c...</td>\n",
       "      <td>Vicar’s fury as two women steal £8,000 destine...</td>\n",
       "      <td>['']</td>\n",
       "    </tr>\n",
       "    <tr>\n",
       "      <td>35833</td>\n",
       "      <td>americanthinker.com</td>\n",
       "      <td>bias</td>\n",
       "      <td>They ought to put that on a travel brochure. T...</td>\n",
       "      <td>Blog: Welcome to Yemen, al-Qaeda terrorists</td>\n",
       "      <td>['']</td>\n",
       "    </tr>\n",
       "    <tr>\n",
       "      <td>16382</td>\n",
       "      <td>theonion.com</td>\n",
       "      <td>satire</td>\n",
       "      <td>\"Hopefully, Bush has learned a great deal on t...</td>\n",
       "      <td>Bush In Jordan</td>\n",
       "      <td>['American Voices', 'Vol 42 Issue 48', 'The On...</td>\n",
       "    </tr>\n",
       "    <tr>\n",
       "      <td>23236</td>\n",
       "      <td>conservapedia.com</td>\n",
       "      <td>bias</td>\n",
       "      <td>Jump to: navigation\\n\\nWhat links here Page: N...</td>\n",
       "      <td>Pages that link to \"Omar Torrijos\"</td>\n",
       "      <td>['']</td>\n",
       "    </tr>\n",
       "    <tr>\n",
       "      <td>44272</td>\n",
       "      <td>theeventchronicle.com</td>\n",
       "      <td>conspiracy</td>\n",
       "      <td>984 SHARES Share Tweet Google+ Mail Reddit Buf...</td>\n",
       "      <td>Vladimir Putin – Agent of the Awakening?</td>\n",
       "      <td>['']</td>\n",
       "    </tr>\n",
       "  </tbody>\n",
       "</table>\n",
       "</div>"
      ],
      "text/plain": [
       "                      domain        type  \\\n",
       "10737          express.co.uk       rumor   \n",
       "35833    americanthinker.com        bias   \n",
       "16382           theonion.com      satire   \n",
       "23236      conservapedia.com        bias   \n",
       "44272  theeventchronicle.com  conspiracy   \n",
       "\n",
       "                                                 content  \\\n",
       "10737  SUPPLIED CCTV The money was stolen before it c...   \n",
       "35833  They ought to put that on a travel brochure. T...   \n",
       "16382  \"Hopefully, Bush has learned a great deal on t...   \n",
       "23236  Jump to: navigation\\n\\nWhat links here Page: N...   \n",
       "44272  984 SHARES Share Tweet Google+ Mail Reddit Buf...   \n",
       "\n",
       "                                                   title  \\\n",
       "10737  Vicar’s fury as two women steal £8,000 destine...   \n",
       "35833        Blog: Welcome to Yemen, al-Qaeda terrorists   \n",
       "16382                                     Bush In Jordan   \n",
       "23236                 Pages that link to \"Omar Torrijos\"   \n",
       "44272           Vladimir Putin – Agent of the Awakening?   \n",
       "\n",
       "                                           meta_keywords  \n",
       "10737                                               ['']  \n",
       "35833                                               ['']  \n",
       "16382  ['American Voices', 'Vol 42 Issue 48', 'The On...  \n",
       "23236                                               ['']  \n",
       "44272                                               ['']  "
      ]
     },
     "execution_count": 7,
     "metadata": {},
     "output_type": "execute_result"
    }
   ],
   "source": [
    "df.sample(5)"
   ]
  },
  {
   "cell_type": "code",
   "execution_count": 8,
   "metadata": {},
   "outputs": [],
   "source": [
    "df = df.drop(columns = ['meta_keywords'])"
   ]
  },
  {
   "cell_type": "code",
   "execution_count": 9,
   "metadata": {
    "scrolled": true
   },
   "outputs": [
    {
     "data": {
      "text/plain": [
       "domain     0.000000\n",
       "type       0.046594\n",
       "content    0.000011\n",
       "title      0.008501\n",
       "dtype: float64"
      ]
     },
     "execution_count": 9,
     "metadata": {},
     "output_type": "execute_result"
    }
   ],
   "source": [
    "df.isna().mean()"
   ]
  },
  {
   "cell_type": "code",
   "execution_count": 11,
   "metadata": {},
   "outputs": [],
   "source": [
    "df.dropna(inplace = True)"
   ]
  },
  {
   "cell_type": "code",
   "execution_count": 14,
   "metadata": {},
   "outputs": [],
   "source": [
    "df = df[df['type'] != 'rumor']\n",
    "df = df[df['type'] != 'unknown']\n",
    "df = df[df['type'] != 'satire']"
   ]
  },
  {
   "cell_type": "code",
   "execution_count": 15,
   "metadata": {
    "scrolled": true
   },
   "outputs": [
    {
     "data": {
      "text/plain": [
       "reliable      0.267789\n",
       "political     0.234307\n",
       "bias          0.160657\n",
       "fake          0.126711\n",
       "conspiracy    0.108524\n",
       "unreliable    0.042144\n",
       "clickbait     0.032487\n",
       "junksci       0.016874\n",
       "hate          0.010506\n",
       "Name: type, dtype: float64"
      ]
     },
     "execution_count": 15,
     "metadata": {},
     "output_type": "execute_result"
    }
   ],
   "source": [
    "df['type'].value_counts(normalize = True)"
   ]
  },
  {
   "cell_type": "code",
   "execution_count": null,
   "metadata": {},
   "outputs": [],
   "source": []
  },
  {
   "cell_type": "markdown",
   "metadata": {},
   "source": [
    "## Processing input"
   ]
  },
  {
   "cell_type": "code",
   "execution_count": 17,
   "metadata": {},
   "outputs": [],
   "source": [
    "def tokenize(x):\n",
    "    tokenizer = RegexpTokenizer(r'\\w+')\n",
    "    return tokenizer.tokenize(x)\n",
    "\n",
    "df['tokens'] = df['title'].map(tokenize)\n",
    "    \n",
    "def lemmatize(x):\n",
    "    lemmatizer = WordNetLemmatizer()\n",
    "    return ' '.join([lemmatizer.lemmatize(word) for word in x])\n",
    "\n",
    "df['lemma'] = df['tokens'].map(lemmatize)\n",
    "\n"
   ]
  },
  {
   "cell_type": "code",
   "execution_count": 19,
   "metadata": {
    "scrolled": true
   },
   "outputs": [],
   "source": [
    "cvec = CountVectorizer(stop_words='english', ngram_range=(1, 2))\n",
    "X = cvec.fit_transform(df['title'])\n",
    "\n"
   ]
  },
  {
   "cell_type": "code",
   "execution_count": 22,
   "metadata": {},
   "outputs": [],
   "source": [
    "y = df['type'].map"
   ]
  },
  {
   "cell_type": "code",
   "execution_count": 23,
   "metadata": {},
   "outputs": [
    {
     "data": {
      "text/plain": [
       "(75384,)"
      ]
     },
     "execution_count": 23,
     "metadata": {},
     "output_type": "execute_result"
    }
   ],
   "source": []
  }
 ],
 "metadata": {
  "kernelspec": {
   "display_name": "Python 3",
   "language": "python",
   "name": "python3"
  },
  "language_info": {
   "codemirror_mode": {
    "name": "ipython",
    "version": 3
   },
   "file_extension": ".py",
   "mimetype": "text/x-python",
   "name": "python",
   "nbconvert_exporter": "python",
   "pygments_lexer": "ipython3",
   "version": "3.7.1"
  }
 },
 "nbformat": 4,
 "nbformat_minor": 2
}
